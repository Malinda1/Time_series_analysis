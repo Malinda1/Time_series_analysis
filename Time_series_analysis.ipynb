{
 "cells": [
  {
   "cell_type": "code",
   "execution_count": 7,
   "id": "5138389a",
   "metadata": {},
   "outputs": [],
   "source": [
    "import pandas as pd\n",
    "import numpy as np\n",
    "import matplotlib.pyplot as plt\n",
    "import seaborn as sns\n",
    "import pandas_datareader as pdr\n",
    "from datetime import datetime\n",
    "import yfinance as yf"
   ]
  },
  {
   "cell_type": "code",
   "execution_count": 8,
   "id": "d7cfa0bc",
   "metadata": {},
   "outputs": [
    {
     "name": "stdout",
     "output_type": "stream",
     "text": [
      "YF.download() has changed argument auto_adjust default to True\n"
     ]
    },
    {
     "name": "stderr",
     "output_type": "stream",
     "text": [
      "[*********************100%***********************]  1 of 1 completed"
     ]
    },
    {
     "name": "stdout",
     "output_type": "stream",
     "text": [
      "Price          Close      High       Low      Open     Volume\n",
      "Ticker          TSLA      TSLA      TSLA      TSLA       TSLA\n",
      "Date                                                         \n",
      "2010-06-29  1.592667  1.666667  1.169333  1.266667  281494500\n",
      "2010-06-30  1.588667  2.028000  1.553333  1.719333  257806500\n",
      "2010-07-01  1.464000  1.728000  1.351333  1.666667  123282000\n",
      "2010-07-02  1.280000  1.540000  1.247333  1.533333   77097000\n",
      "2010-07-06  1.074000  1.333333  1.055333  1.333333  103003500\n"
     ]
    },
    {
     "name": "stderr",
     "output_type": "stream",
     "text": [
      "\n"
     ]
    }
   ],
   "source": [
    "# Download the Tesla data\n",
    "\n",
    "tsla = yf.download('TSLA')\n",
    "print(tsla.head())"
   ]
  },
  {
   "cell_type": "code",
   "execution_count": 9,
   "id": "2535b507",
   "metadata": {},
   "outputs": [
    {
     "data": {
      "application/vnd.microsoft.datawrangler.viewer.v0+json": {
       "columns": [
        {
         "name": "Date",
         "rawType": "datetime64[ns]",
         "type": "datetime"
        },
        {
         "name": "('Close', 'TSLA')",
         "rawType": "float64",
         "type": "float"
        },
        {
         "name": "('High', 'TSLA')",
         "rawType": "float64",
         "type": "float"
        },
        {
         "name": "('Low', 'TSLA')",
         "rawType": "float64",
         "type": "float"
        },
        {
         "name": "('Open', 'TSLA')",
         "rawType": "float64",
         "type": "float"
        },
        {
         "name": "('Volume', 'TSLA')",
         "rawType": "int64",
         "type": "integer"
        }
       ],
       "conversionMethod": "pd.DataFrame",
       "ref": "e34adb08-6b68-4e31-ae65-20c76f886628",
       "rows": [
        [
         "2010-06-29 00:00:00",
         "1.5926669836044312",
         "1.6666669845581055",
         "1.1693329811096191",
         "1.2666670083999634",
         "281494500"
        ],
        [
         "2010-06-30 00:00:00",
         "1.5886670351028442",
         "2.0280001163482666",
         "1.553333044052124",
         "1.7193330526351929",
         "257806500"
        ],
        [
         "2010-07-01 00:00:00",
         "1.4639999866485596",
         "1.7280000448226929",
         "1.3513330221176147",
         "1.6666669845581055",
         "123282000"
        ],
        [
         "2010-07-02 00:00:00",
         "1.2799999713897705",
         "1.5399999618530273",
         "1.24733304977417",
         "1.5333329439163208",
         "77097000"
        ],
        [
         "2010-07-06 00:00:00",
         "1.0740000009536743",
         "1.3333330154418945",
         "1.0553330183029175",
         "1.3333330154418945",
         "103003500"
        ]
       ],
       "shape": {
        "columns": 5,
        "rows": 5
       }
      },
      "text/html": [
       "<div>\n",
       "<style scoped>\n",
       "    .dataframe tbody tr th:only-of-type {\n",
       "        vertical-align: middle;\n",
       "    }\n",
       "\n",
       "    .dataframe tbody tr th {\n",
       "        vertical-align: top;\n",
       "    }\n",
       "\n",
       "    .dataframe thead tr th {\n",
       "        text-align: left;\n",
       "    }\n",
       "\n",
       "    .dataframe thead tr:last-of-type th {\n",
       "        text-align: right;\n",
       "    }\n",
       "</style>\n",
       "<table border=\"1\" class=\"dataframe\">\n",
       "  <thead>\n",
       "    <tr>\n",
       "      <th>Price</th>\n",
       "      <th>Close</th>\n",
       "      <th>High</th>\n",
       "      <th>Low</th>\n",
       "      <th>Open</th>\n",
       "      <th>Volume</th>\n",
       "    </tr>\n",
       "    <tr>\n",
       "      <th>Ticker</th>\n",
       "      <th>TSLA</th>\n",
       "      <th>TSLA</th>\n",
       "      <th>TSLA</th>\n",
       "      <th>TSLA</th>\n",
       "      <th>TSLA</th>\n",
       "    </tr>\n",
       "    <tr>\n",
       "      <th>Date</th>\n",
       "      <th></th>\n",
       "      <th></th>\n",
       "      <th></th>\n",
       "      <th></th>\n",
       "      <th></th>\n",
       "    </tr>\n",
       "  </thead>\n",
       "  <tbody>\n",
       "    <tr>\n",
       "      <th>2010-06-29</th>\n",
       "      <td>1.592667</td>\n",
       "      <td>1.666667</td>\n",
       "      <td>1.169333</td>\n",
       "      <td>1.266667</td>\n",
       "      <td>281494500</td>\n",
       "    </tr>\n",
       "    <tr>\n",
       "      <th>2010-06-30</th>\n",
       "      <td>1.588667</td>\n",
       "      <td>2.028000</td>\n",
       "      <td>1.553333</td>\n",
       "      <td>1.719333</td>\n",
       "      <td>257806500</td>\n",
       "    </tr>\n",
       "    <tr>\n",
       "      <th>2010-07-01</th>\n",
       "      <td>1.464000</td>\n",
       "      <td>1.728000</td>\n",
       "      <td>1.351333</td>\n",
       "      <td>1.666667</td>\n",
       "      <td>123282000</td>\n",
       "    </tr>\n",
       "    <tr>\n",
       "      <th>2010-07-02</th>\n",
       "      <td>1.280000</td>\n",
       "      <td>1.540000</td>\n",
       "      <td>1.247333</td>\n",
       "      <td>1.533333</td>\n",
       "      <td>77097000</td>\n",
       "    </tr>\n",
       "    <tr>\n",
       "      <th>2010-07-06</th>\n",
       "      <td>1.074000</td>\n",
       "      <td>1.333333</td>\n",
       "      <td>1.055333</td>\n",
       "      <td>1.333333</td>\n",
       "      <td>103003500</td>\n",
       "    </tr>\n",
       "  </tbody>\n",
       "</table>\n",
       "</div>"
      ],
      "text/plain": [
       "Price          Close      High       Low      Open     Volume\n",
       "Ticker          TSLA      TSLA      TSLA      TSLA       TSLA\n",
       "Date                                                         \n",
       "2010-06-29  1.592667  1.666667  1.169333  1.266667  281494500\n",
       "2010-06-30  1.588667  2.028000  1.553333  1.719333  257806500\n",
       "2010-07-01  1.464000  1.728000  1.351333  1.666667  123282000\n",
       "2010-07-02  1.280000  1.540000  1.247333  1.533333   77097000\n",
       "2010-07-06  1.074000  1.333333  1.055333  1.333333  103003500"
      ]
     },
     "execution_count": 9,
     "metadata": {},
     "output_type": "execute_result"
    }
   ],
   "source": [
    "tsla.head()"
   ]
  },
  {
   "cell_type": "code",
   "execution_count": 10,
   "id": "8d027f6c",
   "metadata": {},
   "outputs": [
    {
     "name": "stdout",
     "output_type": "stream",
     "text": [
      "<class 'pandas.core.frame.DataFrame'>\n",
      "DatetimeIndex: 3727 entries, 2010-06-29 to 2025-04-22\n",
      "Data columns (total 5 columns):\n",
      " #   Column          Non-Null Count  Dtype  \n",
      "---  ------          --------------  -----  \n",
      " 0   (Close, TSLA)   3727 non-null   float64\n",
      " 1   (High, TSLA)    3727 non-null   float64\n",
      " 2   (Low, TSLA)     3727 non-null   float64\n",
      " 3   (Open, TSLA)    3727 non-null   float64\n",
      " 4   (Volume, TSLA)  3727 non-null   int64  \n",
      "dtypes: float64(4), int64(1)\n",
      "memory usage: 174.7 KB\n"
     ]
    }
   ],
   "source": [
    "tsla.info()"
   ]
  },
  {
   "cell_type": "code",
   "execution_count": 14,
   "id": "4c5ada22",
   "metadata": {},
   "outputs": [
    {
     "data": {
      "text/plain": [
       "<Axes: title={'center': 'Tesla High Price'}, xlabel='Date'>"
      ]
     },
     "execution_count": 14,
     "metadata": {},
     "output_type": "execute_result"
    },
    {
     "data": {
      "image/png": "[encoded data removed]",
      "text/plain": [
       "<Figure size 1200x400 with 1 Axes>"
      ]
     },
     "metadata": {},
     "output_type": "display_data"
    }
   ],
   "source": [
    "tsla['High'].plot(figsize=(12, 4), title='Tesla High Price', color='blue')"
   ]
  },
  {
   "cell_type": "code",
   "execution_count": 19,
   "id": "a5395d35",
   "metadata": {},
   "outputs": [
    {
     "data": {
      "text/plain": [
       "<Axes: title={'center': 'Tesla High Price'}, xlabel='Date'>"
      ]
     },
     "execution_count": 19,
     "metadata": {},
     "output_type": "execute_result"
    },
    {
     "data": {
      "image/png": "[encoded data removed]",
      "text/plain": [
       "<Figure size 1200x400 with 1 Axes>"
      ]
     },
     "metadata": {},
     "output_type": "display_data"
    }
   ],
   "source": [
    "# Xlimt and ylimit \n",
    "\n",
    "tsla['High'].plot(figsize=(12, 4), title='Tesla High Price', color='blue', xlim=('2020-01-01', '2021-09-01'))\n"
   ]
  },
  {
   "cell_type": "code",
   "execution_count": 21,
   "id": "a876f179",
   "metadata": {},
   "outputs": [
    {
     "data": {
      "text/plain": [
       "<Axes: title={'center': 'Tesla High Price'}, xlabel='Date'>"
      ]
     },
     "execution_count": 21,
     "metadata": {},
     "output_type": "execute_result"
    },
    {
     "data": {
      "image/png": "[encoded data removed]",
      "text/plain": [
       "<Figure size 1200x400 with 1 Axes>"
      ]
     },
     "metadata": {},
     "output_type": "display_data"
    }
   ],
   "source": [
    "tsla['High'].plot(figsize=(12, 4), title='Tesla High Price', color='blue', xlim=('2020-01-01', '2021-09-01'), ylim=(0, 300))"
   ]
  },
  {
   "cell_type": "code",
   "execution_count": 22,
   "id": "825ce1ab",
   "metadata": {},
   "outputs": [
    {
     "data": {
      "text/plain": [
       "<Axes: title={'center': 'Tesla High Price'}, xlabel='Date'>"
      ]
     },
     "execution_count": 22,
     "metadata": {},
     "output_type": "execute_result"
    },
    {
     "data": {
      "image/png": "[encoded data removed]",
      "text/plain": [
       "<Figure size 1200x400 with 1 Axes>"
      ]
     },
     "metadata": {},
     "output_type": "display_data"
    }
   ],
   "source": [
    "tsla['High'].plot(figsize=(12, 4), title='Tesla High Price', color='blue', xlim=('2020-01-01', '2021-09-01'), ylim=(0, 300), ls = '--')"
   ]
  },
  {
   "cell_type": "code",
   "execution_count": 23,
   "id": "3d81ab3e",
   "metadata": {},
   "outputs": [],
   "source": [
    "index = tsla.loc['2020-01-01':'2021-09-01'].index\n",
    "share_open = tsla.loc['2020-01-01':'2021-09-01']['Open']"
   ]
  },
  {
   "cell_type": "code",
   "execution_count": 27,
   "id": "276addcf",
   "metadata": {},
   "outputs": [
    {
     "data": {
      "application/vnd.microsoft.datawrangler.viewer.v0+json": {
       "columns": [
        {
         "name": "Date",
         "rawType": "datetime64[ns]",
         "type": "datetime"
        },
        {
         "name": "TSLA",
         "rawType": "float64",
         "type": "float"
        }
       ],
       "conversionMethod": "pd.DataFrame",
       "ref": "91d9114d-3fe2-43aa-b9a1-1a343b97cd9a",
       "rows": [
        [
         "2020-01-02 00:00:00",
         "28.299999237060547"
        ],
        [
         "2020-01-03 00:00:00",
         "29.366666793823242"
        ],
        [
         "2020-01-06 00:00:00",
         "29.364667892456055"
        ],
        [
         "2020-01-07 00:00:00",
         "30.760000228881836"
        ],
        [
         "2020-01-08 00:00:00",
         "31.579999923706055"
        ],
        [
         "2020-01-09 00:00:00",
         "33.13999938964844"
        ],
        [
         "2020-01-10 00:00:00",
         "32.11933135986328"
        ],
        [
         "2020-01-13 00:00:00",
         "32.900001525878906"
        ],
        [
         "2020-01-14 00:00:00",
         "36.284000396728516"
        ],
        [
         "2020-01-15 00:00:00",
         "35.31733322143555"
        ],
        [
         "2020-01-16 00:00:00",
         "32.91666793823242"
        ],
        [
         "2020-01-17 00:00:00",
         "33.840667724609375"
        ],
        [
         "2020-01-21 00:00:00",
         "35.349998474121094"
        ],
        [
         "2020-01-22 00:00:00",
         "38.125999450683594"
        ],
        [
         "2020-01-23 00:00:00",
         "37.616668701171875"
        ],
        [
         "2020-01-24 00:00:00",
         "38.04199981689453"
        ],
        [
         "2020-01-27 00:00:00",
         "36.132667541503906"
        ],
        [
         "2020-01-28 00:00:00",
         "37.89933395385742"
        ],
        [
         "2020-01-29 00:00:00",
         "38.37933349609375"
        ],
        [
         "2020-01-30 00:00:00",
         "42.16133117675781"
        ],
        [
         "2020-01-31 00:00:00",
         "42.66666793823242"
        ],
        [
         "2020-02-03 00:00:00",
         "44.91266632080078"
        ],
        [
         "2020-02-04 00:00:00",
         "58.86399841308594"
        ],
        [
         "2020-02-05 00:00:00",
         "54.88399887084961"
        ],
        [
         "2020-02-06 00:00:00",
         "46.66133117675781"
        ],
        [
         "2020-02-07 00:00:00",
         "48.70333480834961"
        ],
        [
         "2020-02-10 00:00:00",
         "53.33333206176758"
        ],
        [
         "2020-02-11 00:00:00",
         "51.25266647338867"
        ],
        [
         "2020-02-12 00:00:00",
         "51.858001708984375"
        ],
        [
         "2020-02-13 00:00:00",
         "49.45600128173828"
        ],
        [
         "2020-02-14 00:00:00",
         "52.4813346862793"
        ],
        [
         "2020-02-18 00:00:00",
         "56.106666564941406"
        ],
        [
         "2020-02-19 00:00:00",
         "61.56666564941406"
        ],
        [
         "2020-02-20 00:00:00",
         "60.79666519165039"
        ],
        [
         "2020-02-21 00:00:00",
         "60.46533203125"
        ],
        [
         "2020-02-24 00:00:00",
         "55.93333435058594"
        ],
        [
         "2020-02-25 00:00:00",
         "56.599998474121094"
        ],
        [
         "2020-02-26 00:00:00",
         "52.16666793823242"
        ],
        [
         "2020-02-27 00:00:00",
         "48.66666793823242"
        ],
        [
         "2020-02-28 00:00:00",
         "41.97999954223633"
        ],
        [
         "2020-03-02 00:00:00",
         "47.41733169555664"
        ],
        [
         "2020-03-03 00:00:00",
         "53.66666793823242"
        ],
        [
         "2020-03-04 00:00:00",
         "50.930667877197266"
        ],
        [
         "2020-03-05 00:00:00",
         "48.2513313293457"
        ],
        [
         "2020-03-06 00:00:00",
         "46.0"
        ],
        [
         "2020-03-09 00:00:00",
         "40.35933303833008"
        ],
        [
         "2020-03-10 00:00:00",
         "43.96200180053711"
        ],
        [
         "2020-03-11 00:00:00",
         "42.68000030517578"
        ],
        [
         "2020-03-12 00:00:00",
         "38.72600173950195"
        ],
        [
         "2020-03-13 00:00:00",
         "39.66666793823242"
        ]
       ],
       "shape": {
        "columns": 1,
        "rows": 421
       }
      },
      "text/html": [
       "<div>\n",
       "<style scoped>\n",
       "    .dataframe tbody tr th:only-of-type {\n",
       "        vertical-align: middle;\n",
       "    }\n",
       "\n",
       "    .dataframe tbody tr th {\n",
       "        vertical-align: top;\n",
       "    }\n",
       "\n",
       "    .dataframe thead th {\n",
       "        text-align: right;\n",
       "    }\n",
       "</style>\n",
       "<table border=\"1\" class=\"dataframe\">\n",
       "  <thead>\n",
       "    <tr style=\"text-align: right;\">\n",
       "      <th>Ticker</th>\n",
       "      <th>TSLA</th>\n",
       "    </tr>\n",
       "    <tr>\n",
       "      <th>Date</th>\n",
       "      <th></th>\n",
       "    </tr>\n",
       "  </thead>\n",
       "  <tbody>\n",
       "    <tr>\n",
       "      <th>2020-01-02</th>\n",
       "      <td>28.299999</td>\n",
       "    </tr>\n",
       "    <tr>\n",
       "      <th>2020-01-03</th>\n",
       "      <td>29.366667</td>\n",
       "    </tr>\n",
       "    <tr>\n",
       "      <th>2020-01-06</th>\n",
       "      <td>29.364668</td>\n",
       "    </tr>\n",
       "    <tr>\n",
       "      <th>2020-01-07</th>\n",
       "      <td>30.760000</td>\n",
       "    </tr>\n",
       "    <tr>\n",
       "      <th>2020-01-08</th>\n",
       "      <td>31.580000</td>\n",
       "    </tr>\n",
       "    <tr>\n",
       "      <th>...</th>\n",
       "      <td>...</td>\n",
       "    </tr>\n",
       "    <tr>\n",
       "      <th>2021-08-26</th>\n",
       "      <td>236.103333</td>\n",
       "    </tr>\n",
       "    <tr>\n",
       "      <th>2021-08-27</th>\n",
       "      <td>235.000000</td>\n",
       "    </tr>\n",
       "    <tr>\n",
       "      <th>2021-08-30</th>\n",
       "      <td>238.240005</td>\n",
       "    </tr>\n",
       "    <tr>\n",
       "      <th>2021-08-31</th>\n",
       "      <td>244.333328</td>\n",
       "    </tr>\n",
       "    <tr>\n",
       "      <th>2021-09-01</th>\n",
       "      <td>244.693329</td>\n",
       "    </tr>\n",
       "  </tbody>\n",
       "</table>\n",
       "<p>421 rows × 1 columns</p>\n",
       "</div>"
      ],
      "text/plain": [
       "Ticker            TSLA\n",
       "Date                  \n",
       "2020-01-02   28.299999\n",
       "2020-01-03   29.366667\n",
       "2020-01-06   29.364668\n",
       "2020-01-07   30.760000\n",
       "2020-01-08   31.580000\n",
       "...                ...\n",
       "2021-08-26  236.103333\n",
       "2021-08-27  235.000000\n",
       "2021-08-30  238.240005\n",
       "2021-08-31  244.333328\n",
       "2021-09-01  244.693329\n",
       "\n",
       "[421 rows x 1 columns]"
      ]
     },
     "execution_count": 27,
     "metadata": {},
     "output_type": "execute_result"
    }
   ],
   "source": [
    "share_open"
   ]
  },
  {
   "cell_type": "code",
   "execution_count": null,
   "id": "509a931a",
   "metadata": {},
   "outputs": [
    {
     "data": {
      "image/png": "[encoded data removed]",
      "text/plain": [
       "<Figure size 1200x400 with 1 Axes>"
      ]
     },
     "metadata": {},
     "output_type": "display_data"
    }
   ],
   "source": [
    "figure, ax = plt.subplots(figsize=(12, 4))\n",
    "ax.plot(index, share_open, color='blue', label='Open Price')\n",
    "ax.set_title('Tesla Open Price')\n",
    "ax.set_xlabel('Date')\n",
    "ax.set_ylabel('Price')\n",
    "ax.legend()\n",
    "plt.tight_layout()\n",
    "# Prevent overlapping of x_axis labels\n",
    "figure.autofmt_xdate()\n"
   ]
  },
  {
   "cell_type": "code",
   "execution_count": 28,
   "id": "c757f53e",
   "metadata": {},
   "outputs": [],
   "source": [
    "# Date Time index\n",
    "\n",
    "tsla = tsla.reset_index()"
   ]
  },
  {
   "cell_type": "code",
   "execution_count": 29,
   "id": "b5b72c69",
   "metadata": {},
   "outputs": [
    {
     "name": "stdout",
     "output_type": "stream",
     "text": [
      "<class 'pandas.core.frame.DataFrame'>\n",
      "RangeIndex: 3727 entries, 0 to 3726\n",
      "Data columns (total 6 columns):\n",
      " #   Column          Non-Null Count  Dtype         \n",
      "---  ------          --------------  -----         \n",
      " 0   (Date, )        3727 non-null   datetime64[ns]\n",
      " 1   (Close, TSLA)   3727 non-null   float64       \n",
      " 2   (High, TSLA)    3727 non-null   float64       \n",
      " 3   (Low, TSLA)     3727 non-null   float64       \n",
      " 4   (Open, TSLA)    3727 non-null   float64       \n",
      " 5   (Volume, TSLA)  3727 non-null   int64         \n",
      "dtypes: datetime64[ns](1), float64(4), int64(1)\n",
      "memory usage: 174.8 KB\n"
     ]
    }
   ],
   "source": [
    "tsla.info()"
   ]
  },
  {
   "cell_type": "code",
   "execution_count": 30,
   "id": "dfb9a559",
   "metadata": {},
   "outputs": [
    {
     "data": {
      "application/vnd.microsoft.datawrangler.viewer.v0+json": {
       "columns": [
        {
         "name": "index",
         "rawType": "int64",
         "type": "integer"
        },
        {
         "name": "('Date', '')",
         "rawType": "datetime64[ns]",
         "type": "datetime"
        },
        {
         "name": "('Close', 'TSLA')",
         "rawType": "float64",
         "type": "float"
        },
        {
         "name": "('High', 'TSLA')",
         "rawType": "float64",
         "type": "float"
        },
        {
         "name": "('Low', 'TSLA')",
         "rawType": "float64",
         "type": "float"
        },
        {
         "name": "('Open', 'TSLA')",
         "rawType": "float64",
         "type": "float"
        },
        {
         "name": "('Volume', 'TSLA')",
         "rawType": "int64",
         "type": "integer"
        }
       ],
       "conversionMethod": "pd.DataFrame",
       "ref": "c7d021d5-cabe-4f0c-9e68-45d854bdfd13",
       "rows": [
        [
         "0",
         "2010-06-29 00:00:00",
         "1.5926669836044312",
         "1.6666669845581055",
         "1.1693329811096191",
         "1.2666670083999634",
         "281494500"
        ],
        [
         "1",
         "2010-06-30 00:00:00",
         "1.5886670351028442",
         "2.0280001163482666",
         "1.553333044052124",
         "1.7193330526351929",
         "257806500"
        ],
        [
         "2",
         "2010-07-01 00:00:00",
         "1.4639999866485596",
         "1.7280000448226929",
         "1.3513330221176147",
         "1.6666669845581055",
         "123282000"
        ],
        [
         "3",
         "2010-07-02 00:00:00",
         "1.2799999713897705",
         "1.5399999618530273",
         "1.24733304977417",
         "1.5333329439163208",
         "77097000"
        ],
        [
         "4",
         "2010-07-06 00:00:00",
         "1.0740000009536743",
         "1.3333330154418945",
         "1.0553330183029175",
         "1.3333330154418945",
         "103003500"
        ]
       ],
       "shape": {
        "columns": 6,
        "rows": 5
       }
      },
      "text/html": [
       "<div>\n",
       "<style scoped>\n",
       "    .dataframe tbody tr th:only-of-type {\n",
       "        vertical-align: middle;\n",
       "    }\n",
       "\n",
       "    .dataframe tbody tr th {\n",
       "        vertical-align: top;\n",
       "    }\n",
       "\n",
       "    .dataframe thead tr th {\n",
       "        text-align: left;\n",
       "    }\n",
       "</style>\n",
       "<table border=\"1\" class=\"dataframe\">\n",
       "  <thead>\n",
       "    <tr>\n",
       "      <th>Price</th>\n",
       "      <th>Date</th>\n",
       "      <th>Close</th>\n",
       "      <th>High</th>\n",
       "      <th>Low</th>\n",
       "      <th>Open</th>\n",
       "      <th>Volume</th>\n",
       "    </tr>\n",
       "    <tr>\n",
       "      <th>Ticker</th>\n",
       "      <th></th>\n",
       "      <th>TSLA</th>\n",
       "      <th>TSLA</th>\n",
       "      <th>TSLA</th>\n",
       "      <th>TSLA</th>\n",
       "      <th>TSLA</th>\n",
       "    </tr>\n",
       "  </thead>\n",
       "  <tbody>\n",
       "    <tr>\n",
       "      <th>0</th>\n",
       "      <td>2010-06-29</td>\n",
       "      <td>1.592667</td>\n",
       "      <td>1.666667</td>\n",
       "      <td>1.169333</td>\n",
       "      <td>1.266667</td>\n",
       "      <td>281494500</td>\n",
       "    </tr>\n",
       "    <tr>\n",
       "      <th>1</th>\n",
       "      <td>2010-06-30</td>\n",
       "      <td>1.588667</td>\n",
       "      <td>2.028000</td>\n",
       "      <td>1.553333</td>\n",
       "      <td>1.719333</td>\n",
       "      <td>257806500</td>\n",
       "    </tr>\n",
       "    <tr>\n",
       "      <th>2</th>\n",
       "      <td>2010-07-01</td>\n",
       "      <td>1.464000</td>\n",
       "      <td>1.728000</td>\n",
       "      <td>1.351333</td>\n",
       "      <td>1.666667</td>\n",
       "      <td>123282000</td>\n",
       "    </tr>\n",
       "    <tr>\n",
       "      <th>3</th>\n",
       "      <td>2010-07-02</td>\n",
       "      <td>1.280000</td>\n",
       "      <td>1.540000</td>\n",
       "      <td>1.247333</td>\n",
       "      <td>1.533333</td>\n",
       "      <td>77097000</td>\n",
       "    </tr>\n",
       "    <tr>\n",
       "      <th>4</th>\n",
       "      <td>2010-07-06</td>\n",
       "      <td>1.074000</td>\n",
       "      <td>1.333333</td>\n",
       "      <td>1.055333</td>\n",
       "      <td>1.333333</td>\n",
       "      <td>103003500</td>\n",
       "    </tr>\n",
       "  </tbody>\n",
       "</table>\n",
       "</div>"
      ],
      "text/plain": [
       "Price        Date     Close      High       Low      Open     Volume\n",
       "Ticker                 TSLA      TSLA      TSLA      TSLA       TSLA\n",
       "0      2010-06-29  1.592667  1.666667  1.169333  1.266667  281494500\n",
       "1      2010-06-30  1.588667  2.028000  1.553333  1.719333  257806500\n",
       "2      2010-07-01  1.464000  1.728000  1.351333  1.666667  123282000\n",
       "3      2010-07-02  1.280000  1.540000  1.247333  1.533333   77097000\n",
       "4      2010-07-06  1.074000  1.333333  1.055333  1.333333  103003500"
      ]
     },
     "execution_count": 30,
     "metadata": {},
     "output_type": "execute_result"
    }
   ],
   "source": [
    "tsla.head()"
   ]
  },
  {
   "cell_type": "code",
   "execution_count": 31,
   "id": "a4003e13",
   "metadata": {},
   "outputs": [
    {
     "data": {
      "text/plain": [
       "datetime.datetime(2021, 11, 21, 0, 0)"
      ]
     },
     "execution_count": 31,
     "metadata": {},
     "output_type": "execute_result"
    }
   ],
   "source": [
    "# Using datetime\n",
    "\n",
    "datetime(2021, 11, 21)"
   ]
  },
  {
   "cell_type": "code",
   "execution_count": 32,
   "id": "9582e72b",
   "metadata": {},
   "outputs": [
    {
     "data": {
      "text/plain": [
       "datetime.datetime(2025, 4, 23, 11, 5, 31, 424927)"
      ]
     },
     "execution_count": 32,
     "metadata": {},
     "output_type": "execute_result"
    }
   ],
   "source": [
    "datetime.now()"
   ]
  },
  {
   "cell_type": "code",
   "execution_count": 33,
   "id": "5d6f64e1",
   "metadata": {},
   "outputs": [],
   "source": [
    "date = datetime.now()"
   ]
  },
  {
   "cell_type": "code",
   "execution_count": 35,
   "id": "97d53b02",
   "metadata": {},
   "outputs": [
    {
     "data": {
      "text/plain": [
       "datetime.date(2025, 4, 23)"
      ]
     },
     "execution_count": 35,
     "metadata": {},
     "output_type": "execute_result"
    }
   ],
   "source": [
    "date.date()"
   ]
  },
  {
   "cell_type": "code",
   "execution_count": 36,
   "id": "c8405dc4",
   "metadata": {},
   "outputs": [
    {
     "data": {
      "text/plain": [
       "2025"
      ]
     },
     "execution_count": 36,
     "metadata": {},
     "output_type": "execute_result"
    }
   ],
   "source": [
    "date.year"
   ]
  },
  {
   "cell_type": "code",
   "execution_count": 37,
   "id": "5678033b",
   "metadata": {},
   "outputs": [
    {
     "data": {
      "text/plain": [
       "4"
      ]
     },
     "execution_count": 37,
     "metadata": {},
     "output_type": "execute_result"
    }
   ],
   "source": [
    "date.month"
   ]
  },
  {
   "cell_type": "code",
   "execution_count": 38,
   "id": "f8dba2e2",
   "metadata": {},
   "outputs": [
    {
     "data": {
      "text/plain": [
       "23"
      ]
     },
     "execution_count": 38,
     "metadata": {},
     "output_type": "execute_result"
    }
   ],
   "source": [
    "date.day"
   ]
  },
  {
   "cell_type": "code",
   "execution_count": 39,
   "id": "7637c55c",
   "metadata": {},
   "outputs": [
    {
     "data": {
      "text/plain": [
       "2"
      ]
     },
     "execution_count": 39,
     "metadata": {},
     "output_type": "execute_result"
    }
   ],
   "source": [
    "date.weekday()"
   ]
  },
  {
   "cell_type": "markdown",
   "id": "3f92c04d",
   "metadata": {},
   "source": [
    "# Date Resampling "
   ]
  },
  {
   "cell_type": "code",
   "execution_count": 41,
   "id": "eab6c430",
   "metadata": {},
   "outputs": [
    {
     "name": "stderr",
     "output_type": "stream",
     "text": [
      "/var/folders/ng/y3jq4z5556l47rj1150jg7jm0000gn/T/ipykernel_10538/348465614.py:3: FutureWarning: 'A' is deprecated and will be removed in a future version, please use 'YE' instead.\n",
      "  tsla.resample(rule = 'A').min()\n"
     ]
    },
    {
     "data": {
      "application/vnd.microsoft.datawrangler.viewer.v0+json": {
       "columns": [
        {
         "name": "Date",
         "rawType": "datetime64[ns]",
         "type": "datetime"
        },
        {
         "name": "('Close', 'TSLA')",
         "rawType": "float64",
         "type": "float"
        },
        {
         "name": "('High', 'TSLA')",
         "rawType": "float64",
         "type": "float"
        },
        {
         "name": "('Low', 'TSLA')",
         "rawType": "float64",
         "type": "float"
        },
        {
         "name": "('Open', 'TSLA')",
         "rawType": "float64",
         "type": "float"
        },
        {
         "name": "('Volume', 'TSLA')",
         "rawType": "int64",
         "type": "integer"
        }
       ],
       "conversionMethod": "pd.DataFrame",
       "ref": "68a14e25-0ffc-4910-9c24-dd35a1df0a8e",
       "rows": [
        [
         "2010-12-31 00:00:00",
         "1.053333044052124",
         "1.108667016029358",
         "0.9986670017242432",
         "1.0759999752044678",
         "1777500"
        ],
        [
         "2011-12-31 00:00:00",
         "1.4553329944610596",
         "1.4846669435501099",
         "1.4073330163955688",
         "1.4520000219345093",
         "3594000"
        ],
        [
         "2012-12-31 00:00:00",
         "1.519333004951477",
         "1.7899999618530273",
         "1.5093330144882202",
         "1.7746670246124268",
         "5473500"
        ],
        [
         "2013-12-31 00:00:00",
         "2.194000005722046",
         "2.2253329753875732",
         "2.140666961669922",
         "2.2053329944610596",
         "6603000"
        ],
        [
         "2014-12-31 00:00:00",
         "9.28933334350586",
         "9.800000190734863",
         "9.111332893371582",
         "9.366666793823242",
         "19983000"
        ],
        [
         "2015-12-31 00:00:00",
         "12.333333015441895",
         "12.619333267211914",
         "12.09333324432373",
         "12.388667106628418",
         "10620000"
        ],
        [
         "2016-12-31 00:00:00",
         "9.57800006866455",
         "10.33133316040039",
         "9.403332710266113",
         "9.48799991607666",
         "24892500"
        ],
        [
         "2017-12-31 00:00:00",
         "14.465999603271484",
         "14.688667297363281",
         "14.064000129699707",
         "14.316666603088379",
         "32800500"
        ],
        [
         "2018-12-31 00:00:00",
         "16.70400047302246",
         "17.35533332824707",
         "16.305999755859375",
         "16.851999282836914",
         "46210500"
        ],
        [
         "2019-12-31 00:00:00",
         "11.9313325881958",
         "12.445332527160645",
         "11.799332618713379",
         "12.073332786560059",
         "36984000"
        ],
        [
         "2020-12-31 00:00:00",
         "24.08133316040039",
         "26.99066734313965",
         "23.367332458496094",
         "24.979999542236328",
         "52073100"
        ],
        [
         "2021-12-31 00:00:00",
         "187.6666717529297",
         "188.73666381835938",
         "179.8300018310547",
         "184.18333435058594",
         "29401800"
        ],
        [
         "2022-12-31 00:00:00",
         "109.0999984741211",
         "116.2699966430664",
         "108.23999786376953",
         "110.3499984741211",
         "41864700"
        ],
        [
         "2023-12-31 00:00:00",
         "108.0999984741211",
         "111.75",
         "101.80999755859375",
         "103.0",
         "65125200"
        ],
        [
         "2024-12-31 00:00:00",
         "142.0500030517578",
         "144.44000244140625",
         "138.8000030517578",
         "140.55999755859375",
         "37167600"
        ],
        [
         "2025-12-31 00:00:00",
         "221.86000061035156",
         "230.10000610351562",
         "214.25",
         "223.77999877929688",
         "45965400"
        ]
       ],
       "shape": {
        "columns": 5,
        "rows": 16
       }
      },
      "text/html": [
       "<div>\n",
       "<style scoped>\n",
       "    .dataframe tbody tr th:only-of-type {\n",
       "        vertical-align: middle;\n",
       "    }\n",
       "\n",
       "    .dataframe tbody tr th {\n",
       "        vertical-align: top;\n",
       "    }\n",
       "\n",
       "    .dataframe thead tr th {\n",
       "        text-align: left;\n",
       "    }\n",
       "\n",
       "    .dataframe thead tr:last-of-type th {\n",
       "        text-align: right;\n",
       "    }\n",
       "</style>\n",
       "<table border=\"1\" class=\"dataframe\">\n",
       "  <thead>\n",
       "    <tr>\n",
       "      <th>Price</th>\n",
       "      <th>Close</th>\n",
       "      <th>High</th>\n",
       "      <th>Low</th>\n",
       "      <th>Open</th>\n",
       "      <th>Volume</th>\n",
       "    </tr>\n",
       "    <tr>\n",
       "      <th>Ticker</th>\n",
       "      <th>TSLA</th>\n",
       "      <th>TSLA</th>\n",
       "      <th>TSLA</th>\n",
       "      <th>TSLA</th>\n",
       "      <th>TSLA</th>\n",
       "    </tr>\n",
       "    <tr>\n",
       "      <th>Date</th>\n",
       "      <th></th>\n",
       "      <th></th>\n",
       "      <th></th>\n",
       "      <th></th>\n",
       "      <th></th>\n",
       "    </tr>\n",
       "  </thead>\n",
       "  <tbody>\n",
       "    <tr>\n",
       "      <th>2010-12-31</th>\n",
       "      <td>1.053333</td>\n",
       "      <td>1.108667</td>\n",
       "      <td>0.998667</td>\n",
       "      <td>1.076000</td>\n",
       "      <td>1777500</td>\n",
       "    </tr>\n",
       "    <tr>\n",
       "      <th>2011-12-31</th>\n",
       "      <td>1.455333</td>\n",
       "      <td>1.484667</td>\n",
       "      <td>1.407333</td>\n",
       "      <td>1.452000</td>\n",
       "      <td>3594000</td>\n",
       "    </tr>\n",
       "    <tr>\n",
       "      <th>2012-12-31</th>\n",
       "      <td>1.519333</td>\n",
       "      <td>1.790000</td>\n",
       "      <td>1.509333</td>\n",
       "      <td>1.774667</td>\n",
       "      <td>5473500</td>\n",
       "    </tr>\n",
       "    <tr>\n",
       "      <th>2013-12-31</th>\n",
       "      <td>2.194000</td>\n",
       "      <td>2.225333</td>\n",
       "      <td>2.140667</td>\n",
       "      <td>2.205333</td>\n",
       "      <td>6603000</td>\n",
       "    </tr>\n",
       "    <tr>\n",
       "      <th>2014-12-31</th>\n",
       "      <td>9.289333</td>\n",
       "      <td>9.800000</td>\n",
       "      <td>9.111333</td>\n",
       "      <td>9.366667</td>\n",
       "      <td>19983000</td>\n",
       "    </tr>\n",
       "    <tr>\n",
       "      <th>2015-12-31</th>\n",
       "      <td>12.333333</td>\n",
       "      <td>12.619333</td>\n",
       "      <td>12.093333</td>\n",
       "      <td>12.388667</td>\n",
       "      <td>10620000</td>\n",
       "    </tr>\n",
       "    <tr>\n",
       "      <th>2016-12-31</th>\n",
       "      <td>9.578000</td>\n",
       "      <td>10.331333</td>\n",
       "      <td>9.403333</td>\n",
       "      <td>9.488000</td>\n",
       "      <td>24892500</td>\n",
       "    </tr>\n",
       "    <tr>\n",
       "      <th>2017-12-31</th>\n",
       "      <td>14.466000</td>\n",
       "      <td>14.688667</td>\n",
       "      <td>14.064000</td>\n",
       "      <td>14.316667</td>\n",
       "      <td>32800500</td>\n",
       "    </tr>\n",
       "    <tr>\n",
       "      <th>2018-12-31</th>\n",
       "      <td>16.704000</td>\n",
       "      <td>17.355333</td>\n",
       "      <td>16.306000</td>\n",
       "      <td>16.851999</td>\n",
       "      <td>46210500</td>\n",
       "    </tr>\n",
       "    <tr>\n",
       "      <th>2019-12-31</th>\n",
       "      <td>11.931333</td>\n",
       "      <td>12.445333</td>\n",
       "      <td>11.799333</td>\n",
       "      <td>12.073333</td>\n",
       "      <td>36984000</td>\n",
       "    </tr>\n",
       "    <tr>\n",
       "      <th>2020-12-31</th>\n",
       "      <td>24.081333</td>\n",
       "      <td>26.990667</td>\n",
       "      <td>23.367332</td>\n",
       "      <td>24.980000</td>\n",
       "      <td>52073100</td>\n",
       "    </tr>\n",
       "    <tr>\n",
       "      <th>2021-12-31</th>\n",
       "      <td>187.666672</td>\n",
       "      <td>188.736664</td>\n",
       "      <td>179.830002</td>\n",
       "      <td>184.183334</td>\n",
       "      <td>29401800</td>\n",
       "    </tr>\n",
       "    <tr>\n",
       "      <th>2022-12-31</th>\n",
       "      <td>109.099998</td>\n",
       "      <td>116.269997</td>\n",
       "      <td>108.239998</td>\n",
       "      <td>110.349998</td>\n",
       "      <td>41864700</td>\n",
       "    </tr>\n",
       "    <tr>\n",
       "      <th>2023-12-31</th>\n",
       "      <td>108.099998</td>\n",
       "      <td>111.750000</td>\n",
       "      <td>101.809998</td>\n",
       "      <td>103.000000</td>\n",
       "      <td>65125200</td>\n",
       "    </tr>\n",
       "    <tr>\n",
       "      <th>2024-12-31</th>\n",
       "      <td>142.050003</td>\n",
       "      <td>144.440002</td>\n",
       "      <td>138.800003</td>\n",
       "      <td>140.559998</td>\n",
       "      <td>37167600</td>\n",
       "    </tr>\n",
       "    <tr>\n",
       "      <th>2025-12-31</th>\n",
       "      <td>221.860001</td>\n",
       "      <td>230.100006</td>\n",
       "      <td>214.250000</td>\n",
       "      <td>223.779999</td>\n",
       "      <td>45965400</td>\n",
       "    </tr>\n",
       "  </tbody>\n",
       "</table>\n",
       "</div>"
      ],
      "text/plain": [
       "Price            Close        High         Low        Open    Volume\n",
       "Ticker            TSLA        TSLA        TSLA        TSLA      TSLA\n",
       "Date                                                                \n",
       "2010-12-31    1.053333    1.108667    0.998667    1.076000   1777500\n",
       "2011-12-31    1.455333    1.484667    1.407333    1.452000   3594000\n",
       "2012-12-31    1.519333    1.790000    1.509333    1.774667   5473500\n",
       "2013-12-31    2.194000    2.225333    2.140667    2.205333   6603000\n",
       "2014-12-31    9.289333    9.800000    9.111333    9.366667  19983000\n",
       "2015-12-31   12.333333   12.619333   12.093333   12.388667  10620000\n",
       "2016-12-31    9.578000   10.331333    9.403333    9.488000  24892500\n",
       "2017-12-31   14.466000   14.688667   14.064000   14.316667  32800500\n",
       "2018-12-31   16.704000   17.355333   16.306000   16.851999  46210500\n",
       "2019-12-31   11.931333   12.445333   11.799333   12.073333  36984000\n",
       "2020-12-31   24.081333   26.990667   23.367332   24.980000  52073100\n",
       "2021-12-31  187.666672  188.736664  179.830002  184.183334  29401800\n",
       "2022-12-31  109.099998  116.269997  108.239998  110.349998  41864700\n",
       "2023-12-31  108.099998  111.750000  101.809998  103.000000  65125200\n",
       "2024-12-31  142.050003  144.440002  138.800003  140.559998  37167600\n",
       "2025-12-31  221.860001  230.100006  214.250000  223.779999  45965400"
      ]
     },
     "execution_count": 41,
     "metadata": {},
     "output_type": "execute_result"
    }
   ],
   "source": [
    "tsla = tsla.set_index('Date')\n",
    "\n",
    "tsla.resample(rule = 'A').min()"
   ]
  },
  {
   "cell_type": "code",
   "execution_count": 42,
   "id": "d74f83a3",
   "metadata": {},
   "outputs": [
    {
     "name": "stderr",
     "output_type": "stream",
     "text": [
      "/var/folders/ng/y3jq4z5556l47rj1150jg7jm0000gn/T/ipykernel_10538/3463357436.py:1: FutureWarning: 'A' is deprecated and will be removed in a future version, please use 'YE' instead.\n",
      "  tsla.resample(rule= 'A').max()\n"
     ]
    },
    {
     "data": {
      "application/vnd.microsoft.datawrangler.viewer.v0+json": {
       "columns": [
        {
         "name": "Date",
         "rawType": "datetime64[ns]",
         "type": "datetime"
        },
        {
         "name": "('Close', 'TSLA')",
         "rawType": "float64",
         "type": "float"
        },
        {
         "name": "('High', 'TSLA')",
         "rawType": "float64",
         "type": "float"
        },
        {
         "name": "('Low', 'TSLA')",
         "rawType": "float64",
         "type": "float"
        },
        {
         "name": "('Open', 'TSLA')",
         "rawType": "float64",
         "type": "float"
        },
        {
         "name": "('Volume', 'TSLA')",
         "rawType": "int64",
         "type": "integer"
        }
       ],
       "conversionMethod": "pd.DataFrame",
       "ref": "883357f7-3db0-4496-8d6f-35e594111566",
       "rows": [
        [
         "2010-12-31 00:00:00",
         "2.3646669387817383",
         "2.427999973297119",
         "2.316667079925537",
         "2.3913331031799316",
         "281494500"
        ],
        [
         "2011-12-31 00:00:00",
         "2.3293330669403076",
         "2.3333330154418945",
         "2.268666982650757",
         "2.308666944503784",
         "172767000"
        ],
        [
         "2012-12-31 00:00:00",
         "2.5339999198913574",
         "2.663332939147949",
         "2.4739999771118164",
         "2.5460000038146973",
         "85206000"
        ],
        [
         "2013-12-31 00:00:00",
         "12.891332626342773",
         "12.966667175292969",
         "12.557999610900879",
         "12.93066692352295",
         "557458500"
        ],
        [
         "2014-12-31 00:00:00",
         "19.069332122802734",
         "19.42799949645996",
         "18.69333267211914",
         "19.17799949645996",
         "490225500"
        ],
        [
         "2015-12-31 00:00:00",
         "18.817333221435547",
         "19.110000610351562",
         "18.420000076293945",
         "18.68000030517578",
         "234744000"
        ],
        [
         "2016-12-31 00:00:00",
         "17.69466781616211",
         "17.95599937438965",
         "16.96733283996582",
         "17.76333236694336",
         "356136000"
        ],
        [
         "2017-12-31 00:00:00",
         "25.666667938232422",
         "25.974000930786133",
         "25.290000915527344",
         "25.779333114624023",
         "296871000"
        ],
        [
         "2018-12-31 00:00:00",
         "25.30466651916504",
         "25.83066749572754",
         "24.474666595458984",
         "25.0",
         "504745500"
        ],
        [
         "2019-12-31 00:00:00",
         "28.729333877563477",
         "29.020666122436523",
         "28.42333221435547",
         "29.0",
         "450091500"
        ],
        [
         "2020-12-31 00:00:00",
         "235.22332763671875",
         "239.57333374023438",
         "230.3733367919922",
         "233.3300018310547",
         "914082000"
        ],
        [
         "2021-12-31 00:00:00",
         "409.9700012207031",
         "414.4966735839844",
         "405.6666564941406",
         "411.4700012207031",
         "268189500"
        ],
        [
         "2022-12-31 00:00:00",
         "399.9266662597656",
         "402.6666564941406",
         "378.67999267578125",
         "396.51666259765625",
         "221923300"
        ],
        [
         "2023-12-31 00:00:00",
         "293.3399963378906",
         "299.2900085449219",
         "289.5199890136719",
         "296.0400085449219",
         "306590600"
        ],
        [
         "2024-12-31 00:00:00",
         "479.8599853515625",
         "488.5400085449219",
         "457.510009765625",
         "475.8999938964844",
         "243869700"
        ],
        [
         "2025-12-31 00:00:00",
         "428.2200012207031",
         "439.739990234375",
         "419.75",
         "432.6400146484375",
         "219433400"
        ]
       ],
       "shape": {
        "columns": 5,
        "rows": 16
       }
      },
      "text/html": [
       "<div>\n",
       "<style scoped>\n",
       "    .dataframe tbody tr th:only-of-type {\n",
       "        vertical-align: middle;\n",
       "    }\n",
       "\n",
       "    .dataframe tbody tr th {\n",
       "        vertical-align: top;\n",
       "    }\n",
       "\n",
       "    .dataframe thead tr th {\n",
       "        text-align: left;\n",
       "    }\n",
       "\n",
       "    .dataframe thead tr:last-of-type th {\n",
       "        text-align: right;\n",
       "    }\n",
       "</style>\n",
       "<table border=\"1\" class=\"dataframe\">\n",
       "  <thead>\n",
       "    <tr>\n",
       "      <th>Price</th>\n",
       "      <th>Close</th>\n",
       "      <th>High</th>\n",
       "      <th>Low</th>\n",
       "      <th>Open</th>\n",
       "      <th>Volume</th>\n",
       "    </tr>\n",
       "    <tr>\n",
       "      <th>Ticker</th>\n",
       "      <th>TSLA</th>\n",
       "      <th>TSLA</th>\n",
       "      <th>TSLA</th>\n",
       "      <th>TSLA</th>\n",
       "      <th>TSLA</th>\n",
       "    </tr>\n",
       "    <tr>\n",
       "      <th>Date</th>\n",
       "      <th></th>\n",
       "      <th></th>\n",
       "      <th></th>\n",
       "      <th></th>\n",
       "      <th></th>\n",
       "    </tr>\n",
       "  </thead>\n",
       "  <tbody>\n",
       "    <tr>\n",
       "      <th>2010-12-31</th>\n",
       "      <td>2.364667</td>\n",
       "      <td>2.428000</td>\n",
       "      <td>2.316667</td>\n",
       "      <td>2.391333</td>\n",
       "      <td>281494500</td>\n",
       "    </tr>\n",
       "    <tr>\n",
       "      <th>2011-12-31</th>\n",
       "      <td>2.329333</td>\n",
       "      <td>2.333333</td>\n",
       "      <td>2.268667</td>\n",
       "      <td>2.308667</td>\n",
       "      <td>172767000</td>\n",
       "    </tr>\n",
       "    <tr>\n",
       "      <th>2012-12-31</th>\n",
       "      <td>2.534000</td>\n",
       "      <td>2.663333</td>\n",
       "      <td>2.474000</td>\n",
       "      <td>2.546000</td>\n",
       "      <td>85206000</td>\n",
       "    </tr>\n",
       "    <tr>\n",
       "      <th>2013-12-31</th>\n",
       "      <td>12.891333</td>\n",
       "      <td>12.966667</td>\n",
       "      <td>12.558000</td>\n",
       "      <td>12.930667</td>\n",
       "      <td>557458500</td>\n",
       "    </tr>\n",
       "    <tr>\n",
       "      <th>2014-12-31</th>\n",
       "      <td>19.069332</td>\n",
       "      <td>19.427999</td>\n",
       "      <td>18.693333</td>\n",
       "      <td>19.177999</td>\n",
       "      <td>490225500</td>\n",
       "    </tr>\n",
       "    <tr>\n",
       "      <th>2015-12-31</th>\n",
       "      <td>18.817333</td>\n",
       "      <td>19.110001</td>\n",
       "      <td>18.420000</td>\n",
       "      <td>18.680000</td>\n",
       "      <td>234744000</td>\n",
       "    </tr>\n",
       "    <tr>\n",
       "      <th>2016-12-31</th>\n",
       "      <td>17.694668</td>\n",
       "      <td>17.955999</td>\n",
       "      <td>16.967333</td>\n",
       "      <td>17.763332</td>\n",
       "      <td>356136000</td>\n",
       "    </tr>\n",
       "    <tr>\n",
       "      <th>2017-12-31</th>\n",
       "      <td>25.666668</td>\n",
       "      <td>25.974001</td>\n",
       "      <td>25.290001</td>\n",
       "      <td>25.779333</td>\n",
       "      <td>296871000</td>\n",
       "    </tr>\n",
       "    <tr>\n",
       "      <th>2018-12-31</th>\n",
       "      <td>25.304667</td>\n",
       "      <td>25.830667</td>\n",
       "      <td>24.474667</td>\n",
       "      <td>25.000000</td>\n",
       "      <td>504745500</td>\n",
       "    </tr>\n",
       "    <tr>\n",
       "      <th>2019-12-31</th>\n",
       "      <td>28.729334</td>\n",
       "      <td>29.020666</td>\n",
       "      <td>28.423332</td>\n",
       "      <td>29.000000</td>\n",
       "      <td>450091500</td>\n",
       "    </tr>\n",
       "    <tr>\n",
       "      <th>2020-12-31</th>\n",
       "      <td>235.223328</td>\n",
       "      <td>239.573334</td>\n",
       "      <td>230.373337</td>\n",
       "      <td>233.330002</td>\n",
       "      <td>914082000</td>\n",
       "    </tr>\n",
       "    <tr>\n",
       "      <th>2021-12-31</th>\n",
       "      <td>409.970001</td>\n",
       "      <td>414.496674</td>\n",
       "      <td>405.666656</td>\n",
       "      <td>411.470001</td>\n",
       "      <td>268189500</td>\n",
       "    </tr>\n",
       "    <tr>\n",
       "      <th>2022-12-31</th>\n",
       "      <td>399.926666</td>\n",
       "      <td>402.666656</td>\n",
       "      <td>378.679993</td>\n",
       "      <td>396.516663</td>\n",
       "      <td>221923300</td>\n",
       "    </tr>\n",
       "    <tr>\n",
       "      <th>2023-12-31</th>\n",
       "      <td>293.339996</td>\n",
       "      <td>299.290009</td>\n",
       "      <td>289.519989</td>\n",
       "      <td>296.040009</td>\n",
       "      <td>306590600</td>\n",
       "    </tr>\n",
       "    <tr>\n",
       "      <th>2024-12-31</th>\n",
       "      <td>479.859985</td>\n",
       "      <td>488.540009</td>\n",
       "      <td>457.510010</td>\n",
       "      <td>475.899994</td>\n",
       "      <td>243869700</td>\n",
       "    </tr>\n",
       "    <tr>\n",
       "      <th>2025-12-31</th>\n",
       "      <td>428.220001</td>\n",
       "      <td>439.739990</td>\n",
       "      <td>419.750000</td>\n",
       "      <td>432.640015</td>\n",
       "      <td>219433400</td>\n",
       "    </tr>\n",
       "  </tbody>\n",
       "</table>\n",
       "</div>"
      ],
      "text/plain": [
       "Price            Close        High         Low        Open     Volume\n",
       "Ticker            TSLA        TSLA        TSLA        TSLA       TSLA\n",
       "Date                                                                 \n",
       "2010-12-31    2.364667    2.428000    2.316667    2.391333  281494500\n",
       "2011-12-31    2.329333    2.333333    2.268667    2.308667  172767000\n",
       "2012-12-31    2.534000    2.663333    2.474000    2.546000   85206000\n",
       "2013-12-31   12.891333   12.966667   12.558000   12.930667  557458500\n",
       "2014-12-31   19.069332   19.427999   18.693333   19.177999  490225500\n",
       "2015-12-31   18.817333   19.110001   18.420000   18.680000  234744000\n",
       "2016-12-31   17.694668   17.955999   16.967333   17.763332  356136000\n",
       "2017-12-31   25.666668   25.974001   25.290001   25.779333  296871000\n",
       "2018-12-31   25.304667   25.830667   24.474667   25.000000  504745500\n",
       "2019-12-31   28.729334   29.020666   28.423332   29.000000  450091500\n",
       "2020-12-31  235.223328  239.573334  230.373337  233.330002  914082000\n",
       "2021-12-31  409.970001  414.496674  405.666656  411.470001  268189500\n",
       "2022-12-31  399.926666  402.666656  378.679993  396.516663  221923300\n",
       "2023-12-31  293.339996  299.290009  289.519989  296.040009  306590600\n",
       "2024-12-31  479.859985  488.540009  457.510010  475.899994  243869700\n",
       "2025-12-31  428.220001  439.739990  419.750000  432.640015  219433400"
      ]
     },
     "execution_count": 42,
     "metadata": {},
     "output_type": "execute_result"
    }
   ],
   "source": [
    "tsla.resample(rule= 'A').max()"
   ]
  },
  {
   "cell_type": "code",
   "execution_count": null,
   "id": "1002918a",
   "metadata": {},
   "outputs": [
    {
     "name": "stderr",
     "output_type": "stream",
     "text": [
      "/var/folders/ng/y3jq4z5556l47rj1150jg7jm0000gn/T/ipykernel_10538/934805502.py:1: FutureWarning: 'A' is deprecated and will be removed in a future version, please use 'YE' instead.\n",
      "  tsla.resample(rule= 'A').max()['Open'].plot()\n"
     ]
    },
    {
     "data": {
      "text/plain": [
       "<Axes: xlabel='Date'>"
      ]
     },
     "execution_count": 45,
     "metadata": {},
     "output_type": "execute_result"
    },
    {
     "data": {
      "image/png": "[encoded data removed]",
      "text/plain": [
       "<Figure size 640x480 with 1 Axes>"
      ]
     },
     "metadata": {},
     "output_type": "display_data"
    }
   ],
   "source": [
    "# year and frequency mention 'A'\n",
    "\n",
    "tsla.resample(rule= 'A').max()['Open'].plot()"
   ]
  },
  {
   "cell_type": "code",
   "execution_count": 46,
   "id": "f69c1788",
   "metadata": {},
   "outputs": [
    {
     "data": {
      "text/plain": [
       "<Axes: xlabel='Date'>"
      ]
     },
     "execution_count": 46,
     "metadata": {},
     "output_type": "execute_result"
    },
    {
     "data": {
      "image/png": "[encoded data removed]",
      "text/plain": [
       "<Figure size 640x480 with 1 Axes>"
      ]
     },
     "metadata": {},
     "output_type": "display_data"
    }
   ],
   "source": [
    "# Quartely\n",
    "\n",
    "tsla.resample(rule= 'QS').max()['High'].plot()"
   ]
  },
  {
   "cell_type": "code",
   "execution_count": 48,
   "id": "2d8872b5",
   "metadata": {},
   "outputs": [
    {
     "data": {
      "text/plain": [
       "<Axes: xlabel='Date'>"
      ]
     },
     "execution_count": 48,
     "metadata": {},
     "output_type": "execute_result"
    },
    {
     "data": {
      "image/png": "[encoded data removed]",
      "text/plain": [
       "<Figure size 1500x500 with 1 Axes>"
      ]
     },
     "metadata": {},
     "output_type": "display_data"
    }
   ],
   "source": [
    "tsla.resample(rule= 'QS').max()['High'].plot(kind='bar', figsize=(15, 5))"
   ]
  },
  {
   "cell_type": "code",
   "execution_count": null,
   "id": "831401f5",
   "metadata": {},
   "outputs": [],
   "source": []
  }
 ],
 "metadata": {
  "kernelspec": {
   "display_name": "base",
   "language": "python",
   "name": "python3"
  },
  "language_info": {
   "codemirror_mode": {
    "name": "ipython",
    "version": 3
   },
   "file_extension": ".py",
   "mimetype": "text/x-python",
   "name": "python",
   "nbconvert_exporter": "python",
   "pygments_lexer": "ipython3",
   "version": "3.12.4"
  }
 },
 "nbformat": 4,
 "nbformat_minor": 5
}
